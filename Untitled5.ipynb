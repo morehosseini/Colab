{
  "nbformat": 4,
  "nbformat_minor": 0,
  "metadata": {
    "colab": {
      "provenance": [],
      "authorship_tag": "ABX9TyORtPoJ3LvJA5JKxNRVeUac",
      "include_colab_link": true
    },
    "kernelspec": {
      "name": "python3",
      "display_name": "Python 3"
    },
    "language_info": {
      "name": "python"
    }
  },
  "cells": [
    {
      "cell_type": "markdown",
      "metadata": {
        "id": "view-in-github",
        "colab_type": "text"
      },
      "source": [
        "<a href=\"https://colab.research.google.com/github/morehosseini/Colab/blob/master/Untitled5.ipynb\" target=\"_parent\"><img src=\"https://colab.research.google.com/assets/colab-badge.svg\" alt=\"Open In Colab\"/></a>"
      ]
    },
    {
      "cell_type": "code",
      "source": [
        "mylist=list(range(1,11))\n",
        "for number in mylist:\n",
        "    if number==1:\n",
        "        print('1st')\n",
        "    elif number==2:\n",
        "        print('2nd')\n",
        "    elif number==3:\n",
        "        print('3rd')\n",
        "    else:\n",
        "        print(f'{number}th')"
      ],
      "metadata": {
        "id": "iwbZOag2ST6F",
        "outputId": "c42b1c9d-0fbc-4773-cff9-7abc32609701",
        "colab": {
          "base_uri": "https://localhost:8080/"
        }
      },
      "execution_count": 4,
      "outputs": [
        {
          "output_type": "stream",
          "name": "stdout",
          "text": [
            "1st\n",
            "2nd\n",
            "3rd\n",
            "4th\n",
            "5th\n",
            "6th\n",
            "7th\n",
            "8th\n",
            "9th\n",
            "10th\n"
          ]
        }
      ]
    },
    {
      "cell_type": "code",
      "execution_count": 2,
      "metadata": {
        "id": "3HEtXdAVQ_Mn",
        "colab": {
          "base_uri": "https://localhost:8080/"
        },
        "outputId": "e05a7320-12d6-49fc-8496-487dd8d495f9"
      },
      "outputs": [
        {
          "output_type": "stream",
          "name": "stdout",
          "text": [
            "green\n"
          ]
        }
      ],
      "source": [
        "alien_0={'color':'green', 'points':5}\n",
        "alien_0['x_coordinates']=12\n",
        "alien_0['y_coordinates']=24\n",
        "\n",
        "print(alien_0['color'])"
      ]
    }
  ]
}