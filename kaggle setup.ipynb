{
  "cells": [
    {
      "cell_type": "markdown",
      "metadata": {
        "id": "view-in-github",
        "colab_type": "text"
      },
      "source": [
        "<a href=\"https://colab.research.google.com/github/morehosseini/Colab/blob/master/kaggle%20setup.ipynb\" target=\"_parent\"><img src=\"https://colab.research.google.com/assets/colab-badge.svg\" alt=\"Open In Colab\"/></a>"
      ]
    },
    {
      "cell_type": "code",
      "source": [
        "from google.colab import files\n",
        "files.upload()"
      ],
      "metadata": {
        "id": "Zl1REdddzzUu"
      },
      "execution_count": null,
      "outputs": []
    },
    {
      "cell_type": "code",
      "source": [
        "!pip install -q kaggle # installing the kaggle package\n",
        "!mkdir -p ~/.kaggle # creating .kaggle folder where the key should be placed\n",
        "!cp kaggle.json ~/.kaggle/ # move the key to the folder\n",
        "!pwd # checking the present working directory"
      ],
      "metadata": {
        "id": "XjzoTTnlyDui"
      },
      "execution_count": null,
      "outputs": []
    },
    {
      "cell_type": "code",
      "source": [
        "! mkdir --p/root/.kaggle/"
      ],
      "metadata": {
        "id": "Gd0ZHbB6xdkU"
      },
      "execution_count": null,
      "outputs": []
    },
    {
      "cell_type": "code",
      "source": [
        "!chmod 600 ~/.kaggle/kaggle.json"
      ],
      "metadata": {
        "id": "-P5vLG7_ycVG"
      },
      "execution_count": 12,
      "outputs": []
    },
    {
      "cell_type": "code",
      "source": [
        "!kaggle datasets list"
      ],
      "metadata": {
        "id": "MXsYV3sqyf6S"
      },
      "execution_count": null,
      "outputs": []
    },
    {
      "cell_type": "code",
      "source": [
        "!kaggle datasets download -d thedevastator/hubmap-2022-512x512 -p /content/sample_data"
      ],
      "metadata": {
        "id": "QgmGDk4wyrj4",
        "outputId": "4e2314ca-fd97-4a24-b0a2-8eef7ac0e825",
        "colab": {
          "base_uri": "https://localhost:8080/"
        }
      },
      "execution_count": 17,
      "outputs": [
        {
          "output_type": "stream",
          "name": "stdout",
          "text": [
            "Downloading hubmap-2022-512x512.zip to /content/sample_data\n",
            "100% 1.22G/1.22G [00:10<00:00, 114MB/s]\n",
            "100% 1.22G/1.22G [00:10<00:00, 122MB/s]\n"
          ]
        }
      ]
    },
    {
      "cell_type": "markdown",
      "source": [
        "# 1. Read the kaggle API token to interact with your kaggle account\n",
        "\n",
        "from google.colab import files\n",
        "files.upload()\n",
        "\n",
        "#2. Series of commands to set-up for download\n",
        "\n",
        "!ls -lha kaggle.json\n",
        "!pip install -q kaggle # installing the kaggle package\n",
        "!mkdir -p ~/.kaggle # creating .kaggle folder where the key should be placed\n",
        "!cp kaggle.json ~/.kaggle/ # move the key to the folder\n",
        "!pwd # checking the present working directory\n",
        "\n",
        "#3. giving rw access (if 401-nathorized)\n",
        "\n",
        "!chmod 600 ~/.kaggle/kaggle.json\n",
        "Else retry with fresh API token\n",
        "\n",
        "#4. Sanity check if able to access kaggle\n",
        "!kaggle datasets list\n",
        "\n",
        "#5. Download data command\n",
        "\n",
        "!kaggle datasets download -d insert_dataset_suffix_ -p location_where_to_download\n",
        "for example: !kaggle datasets download -d thedevastator/hubmap-2022-512x512 -p </content/drive/MyDrive/Task2_hubmap\n",
        "\n",
        "#6. unzip\n",
        "!unzip */content/drive/MyDrive/Task2_hubmap/hubmap-2022-512x512.zip *-d /content/drive/MyDrive/Task2_hubmap/hubmap-2022-512x512/"
      ],
      "metadata": {
        "id": "yPfj5FkGBg_n"
      }
    }
  ],
  "metadata": {
    "colab": {
      "name": "Welcome To Colaboratory",
      "provenance": [],
      "include_colab_link": true
    },
    "kernelspec": {
      "display_name": "Python 3",
      "name": "python3"
    }
  },
  "nbformat": 4,
  "nbformat_minor": 0
}